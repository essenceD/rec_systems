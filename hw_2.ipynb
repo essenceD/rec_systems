{
 "cells": [
  {
   "cell_type": "code",
   "execution_count": 19,
   "metadata": {},
   "outputs": [],
   "source": [
    "import pandas as pd\n",
    "import numpy as np\n",
    "import matplotlib.pyplot as plt\n",
    "%matplotlib inline\n",
    "\n",
    "# Для работы с матрицами\n",
    "from scipy.sparse import csr_matrix, coo_matrix\n",
    "\n",
    "# Детерминированные алгоритмы\n",
    "from implicit.nearest_neighbours import ItemItemRecommender, CosineRecommender, TFIDFRecommender, BM25Recommender\n",
    "\n",
    "# Метрики\n",
    "from implicit.evaluation import train_test_split\n",
    "from implicit.evaluation import precision_at_k, mean_average_precision_at_k, AUC_at_k, ndcg_at_k"
   ]
  },
  {
   "cell_type": "code",
   "execution_count": 20,
   "metadata": {},
   "outputs": [
    {
     "data": {
      "text/html": [
       "<div>\n",
       "<style scoped>\n",
       "    .dataframe tbody tr th:only-of-type {\n",
       "        vertical-align: middle;\n",
       "    }\n",
       "\n",
       "    .dataframe tbody tr th {\n",
       "        vertical-align: top;\n",
       "    }\n",
       "\n",
       "    .dataframe thead th {\n",
       "        text-align: right;\n",
       "    }\n",
       "</style>\n",
       "<table border=\"1\" class=\"dataframe\">\n",
       "  <thead>\n",
       "    <tr style=\"text-align: right;\">\n",
       "      <th></th>\n",
       "      <th>user_id</th>\n",
       "      <th>basket_id</th>\n",
       "      <th>day</th>\n",
       "      <th>item_id</th>\n",
       "      <th>quantity</th>\n",
       "      <th>sales_value</th>\n",
       "      <th>store_id</th>\n",
       "      <th>retail_disc</th>\n",
       "      <th>trans_time</th>\n",
       "      <th>week_no</th>\n",
       "      <th>coupon_disc</th>\n",
       "      <th>coupon_match_disc</th>\n",
       "    </tr>\n",
       "  </thead>\n",
       "  <tbody>\n",
       "    <tr>\n",
       "      <th>0</th>\n",
       "      <td>2375</td>\n",
       "      <td>26984851472</td>\n",
       "      <td>1</td>\n",
       "      <td>1004906</td>\n",
       "      <td>1</td>\n",
       "      <td>1.39</td>\n",
       "      <td>364</td>\n",
       "      <td>-0.6</td>\n",
       "      <td>1631</td>\n",
       "      <td>1</td>\n",
       "      <td>0.0</td>\n",
       "      <td>0.0</td>\n",
       "    </tr>\n",
       "    <tr>\n",
       "      <th>1</th>\n",
       "      <td>2375</td>\n",
       "      <td>26984851472</td>\n",
       "      <td>1</td>\n",
       "      <td>1033142</td>\n",
       "      <td>1</td>\n",
       "      <td>0.82</td>\n",
       "      <td>364</td>\n",
       "      <td>0.0</td>\n",
       "      <td>1631</td>\n",
       "      <td>1</td>\n",
       "      <td>0.0</td>\n",
       "      <td>0.0</td>\n",
       "    </tr>\n",
       "  </tbody>\n",
       "</table>\n",
       "</div>"
      ],
      "text/plain": [
       "   user_id    basket_id  day  item_id  quantity  sales_value  store_id  \\\n",
       "0     2375  26984851472    1  1004906         1         1.39       364   \n",
       "1     2375  26984851472    1  1033142         1         0.82       364   \n",
       "\n",
       "   retail_disc  trans_time  week_no  coupon_disc  coupon_match_disc  \n",
       "0         -0.6        1631        1          0.0                0.0  \n",
       "1          0.0        1631        1          0.0                0.0  "
      ]
     },
     "execution_count": 20,
     "metadata": {},
     "output_type": "execute_result"
    }
   ],
   "source": [
    "data = pd.read_csv('retail_train.csv')\n",
    "data.head(2)"
   ]
  },
  {
   "cell_type": "code",
   "execution_count": 21,
   "metadata": {},
   "outputs": [],
   "source": [
    "test_size_weeks = 3\n",
    "\n",
    "data_train = data[data['week_no'] < data['week_no'].max() - test_size_weeks]\n",
    "data_test = data[data['week_no'] >= data['week_no'].max() - test_size_weeks]"
   ]
  },
  {
   "cell_type": "markdown",
   "metadata": {},
   "source": [
    "Задание 1. Weighted Random Recommendation<br>\n",
    "Напишите код для случайных рекоммендаций, в которых вероятность рекомендовать товар прямо пропорциональна логарифму продаж.<br>\n",
    "Можно сэмплировать товары случайно, но пропорционально какому-либо весу.<br>\n",
    "Например, прямопропорционально популярности. Вес = log(sales_sum товара)."
   ]
  },
  {
   "cell_type": "code",
   "execution_count": 22,
   "metadata": {},
   "outputs": [
    {
     "data": {
      "text/html": [
       "<div>\n",
       "<style scoped>\n",
       "    .dataframe tbody tr th:only-of-type {\n",
       "        vertical-align: middle;\n",
       "    }\n",
       "\n",
       "    .dataframe tbody tr th {\n",
       "        vertical-align: top;\n",
       "    }\n",
       "\n",
       "    .dataframe thead th {\n",
       "        text-align: right;\n",
       "    }\n",
       "</style>\n",
       "<table border=\"1\" class=\"dataframe\">\n",
       "  <thead>\n",
       "    <tr style=\"text-align: right;\">\n",
       "      <th></th>\n",
       "      <th>user_id</th>\n",
       "      <th>actual</th>\n",
       "    </tr>\n",
       "  </thead>\n",
       "  <tbody>\n",
       "    <tr>\n",
       "      <th>0</th>\n",
       "      <td>1</td>\n",
       "      <td>[821867, 834484, 856942, 865456, 889248, 90795...</td>\n",
       "    </tr>\n",
       "    <tr>\n",
       "      <th>1</th>\n",
       "      <td>3</td>\n",
       "      <td>[835476, 851057, 872021, 878302, 879948, 90963...</td>\n",
       "    </tr>\n",
       "    <tr>\n",
       "      <th>2</th>\n",
       "      <td>6</td>\n",
       "      <td>[920308, 926804, 946489, 1006718, 1017061, 107...</td>\n",
       "    </tr>\n",
       "    <tr>\n",
       "      <th>3</th>\n",
       "      <td>7</td>\n",
       "      <td>[840386, 889774, 898068, 909714, 929067, 95347...</td>\n",
       "    </tr>\n",
       "    <tr>\n",
       "      <th>4</th>\n",
       "      <td>8</td>\n",
       "      <td>[835098, 872137, 910439, 924610, 992977, 10412...</td>\n",
       "    </tr>\n",
       "  </tbody>\n",
       "</table>\n",
       "</div>"
      ],
      "text/plain": [
       "   user_id                                             actual\n",
       "0        1  [821867, 834484, 856942, 865456, 889248, 90795...\n",
       "1        3  [835476, 851057, 872021, 878302, 879948, 90963...\n",
       "2        6  [920308, 926804, 946489, 1006718, 1017061, 107...\n",
       "3        7  [840386, 889774, 898068, 909714, 929067, 95347...\n",
       "4        8  [835098, 872137, 910439, 924610, 992977, 10412..."
      ]
     },
     "execution_count": 22,
     "metadata": {},
     "output_type": "execute_result"
    }
   ],
   "source": [
    "result = data_test.groupby('user_id')['item_id'].unique().reset_index()\n",
    "result.columns=['user_id', 'actual']\n",
    "result.head(5)"
   ]
  },
  {
   "cell_type": "code",
   "execution_count": 23,
   "metadata": {},
   "outputs": [],
   "source": [
    "def weighted_random_recommendation(items_weights, n=5):\n",
    "    \"\"\"Случайные рекоммендации\n",
    "    \n",
    "    Input\n",
    "    -----\n",
    "    items_weights: pd.DataFrame\n",
    "        Датафрейм со столбцами item_id, weight. Сумма weight по всем товарам = 1\n",
    "    \"\"\"\n",
    "    recs = np.random.choice(items_weights['item_id'].values.ravel(), 5, replace=False, p=items_weights['weight'].values.ravel())\n",
    "    \n",
    "    return recs.tolist()"
   ]
  },
  {
   "cell_type": "code",
   "execution_count": 24,
   "metadata": {},
   "outputs": [
    {
     "name": "stdout",
     "output_type": "stream",
     "text": [
      "Wall time: 50 ms\n"
     ]
    },
    {
     "data": {
      "text/plain": [
       "[9374896, 12394806, 9450628, 1057374, 916282]"
      ]
     },
     "execution_count": 24,
     "metadata": {},
     "output_type": "execute_result"
    }
   ],
   "source": [
    "%%time\n",
    "item_id = data['item_id'].unique()\n",
    "weights = np.random.dirichlet(np.ones(item_id.shape[0]), size=1)\n",
    "df = pd.DataFrame({'item_id': item_id, 'weight': weights.ravel()})\n",
    "recs = weighted_random_recommendation(df)\n",
    "recs"
   ]
  },
  {
   "cell_type": "markdown",
   "metadata": {},
   "source": [
    "Задание 2. Расчет метрик\n",
    "Рассчитайте Precision@5 для каждого алгоритма с помощью функции из вебинара 1. Какой алгоритм показывает лучшее качество?"
   ]
  },
  {
   "cell_type": "code",
   "execution_count": 25,
   "metadata": {},
   "outputs": [
    {
     "data": {
      "text/html": [
       "<div>\n",
       "<style scoped>\n",
       "    .dataframe tbody tr th:only-of-type {\n",
       "        vertical-align: middle;\n",
       "    }\n",
       "\n",
       "    .dataframe tbody tr th {\n",
       "        vertical-align: top;\n",
       "    }\n",
       "\n",
       "    .dataframe thead th {\n",
       "        text-align: right;\n",
       "    }\n",
       "</style>\n",
       "<table border=\"1\" class=\"dataframe\">\n",
       "  <thead>\n",
       "    <tr style=\"text-align: right;\">\n",
       "      <th></th>\n",
       "      <th>user_id</th>\n",
       "      <th>actual</th>\n",
       "      <th>random_recommendation</th>\n",
       "      <th>popular_recommendation</th>\n",
       "      <th>itemitem</th>\n",
       "      <th>cosine</th>\n",
       "      <th>tfidf</th>\n",
       "      <th>own_purchases</th>\n",
       "    </tr>\n",
       "  </thead>\n",
       "  <tbody>\n",
       "    <tr>\n",
       "      <th>0</th>\n",
       "      <td>1</td>\n",
       "      <td>[  821867   834484   856942   865456   889248 ...</td>\n",
       "      <td>[8157117, 870291, 1846901, 891748, 1038560]</td>\n",
       "      <td>[6534178, 6533889, 1029743, 6534166, 1082185]</td>\n",
       "      <td>[1082185, 981760, 1127831, 995242, 1098066]</td>\n",
       "      <td>[1082185, 981760, 1127831, 1098066, 961554]</td>\n",
       "      <td>[1082185, 981760, 1127831, 1098066, 961554]</td>\n",
       "      <td>[1082185, 1029743, 995785, 1004906, 1081177]</td>\n",
       "    </tr>\n",
       "    <tr>\n",
       "      <th>1</th>\n",
       "      <td>3</td>\n",
       "      <td>[  835476   851057   872021   878302   879948 ...</td>\n",
       "      <td>[1000965, 10121560, 9878622, 13512901, 13039531]</td>\n",
       "      <td>[6534178, 6533889, 1029743, 6534166, 1082185]</td>\n",
       "      <td>[1082185, 981760, 1098066, 995242, 826249]</td>\n",
       "      <td>[1082185, 1098066, 981760, 826249, 883404]</td>\n",
       "      <td>[1082185, 981760, 1098066, 826249, 883404]</td>\n",
       "      <td>[1082185, 1098066, 6534178, 1127831, 1068719]</td>\n",
       "    </tr>\n",
       "  </tbody>\n",
       "</table>\n",
       "</div>"
      ],
      "text/plain": [
       "   user_id                                             actual  \\\n",
       "0        1  [  821867   834484   856942   865456   889248 ...   \n",
       "1        3  [  835476   851057   872021   878302   879948 ...   \n",
       "\n",
       "                              random_recommendation  \\\n",
       "0       [8157117, 870291, 1846901, 891748, 1038560]   \n",
       "1  [1000965, 10121560, 9878622, 13512901, 13039531]   \n",
       "\n",
       "                          popular_recommendation  \\\n",
       "0  [6534178, 6533889, 1029743, 6534166, 1082185]   \n",
       "1  [6534178, 6533889, 1029743, 6534166, 1082185]   \n",
       "\n",
       "                                      itemitem  \\\n",
       "0  [1082185, 981760, 1127831, 995242, 1098066]   \n",
       "1   [1082185, 981760, 1098066, 995242, 826249]   \n",
       "\n",
       "                                        cosine  \\\n",
       "0  [1082185, 981760, 1127831, 1098066, 961554]   \n",
       "1   [1082185, 1098066, 981760, 826249, 883404]   \n",
       "\n",
       "                                         tfidf  \\\n",
       "0  [1082185, 981760, 1127831, 1098066, 961554]   \n",
       "1   [1082185, 981760, 1098066, 826249, 883404]   \n",
       "\n",
       "                                   own_purchases  \n",
       "0   [1082185, 1029743, 995785, 1004906, 1081177]  \n",
       "1  [1082185, 1098066, 6534178, 1127831, 1068719]  "
      ]
     },
     "execution_count": 25,
     "metadata": {},
     "output_type": "execute_result"
    }
   ],
   "source": [
    "result = pd.read_csv('predictions_basic.csv')\n",
    "result.head(2)"
   ]
  },
  {
   "cell_type": "code",
   "execution_count": 26,
   "metadata": {},
   "outputs": [
    {
     "data": {
      "text/html": [
       "<div>\n",
       "<style scoped>\n",
       "    .dataframe tbody tr th:only-of-type {\n",
       "        vertical-align: middle;\n",
       "    }\n",
       "\n",
       "    .dataframe tbody tr th {\n",
       "        vertical-align: top;\n",
       "    }\n",
       "\n",
       "    .dataframe thead th {\n",
       "        text-align: right;\n",
       "    }\n",
       "</style>\n",
       "<table border=\"1\" class=\"dataframe\">\n",
       "  <thead>\n",
       "    <tr style=\"text-align: right;\">\n",
       "      <th></th>\n",
       "      <th>user_id</th>\n",
       "      <th>item_id</th>\n",
       "    </tr>\n",
       "  </thead>\n",
       "  <tbody>\n",
       "    <tr>\n",
       "      <th>0</th>\n",
       "      <td>1</td>\n",
       "      <td>[821867, 834484, 856942, 865456, 889248, 90795...</td>\n",
       "    </tr>\n",
       "    <tr>\n",
       "      <th>1</th>\n",
       "      <td>3</td>\n",
       "      <td>[835476, 851057, 872021, 878302, 879948, 90963...</td>\n",
       "    </tr>\n",
       "    <tr>\n",
       "      <th>2</th>\n",
       "      <td>6</td>\n",
       "      <td>[920308, 926804, 946489, 1006718, 1017061, 107...</td>\n",
       "    </tr>\n",
       "    <tr>\n",
       "      <th>3</th>\n",
       "      <td>7</td>\n",
       "      <td>[840386, 889774, 898068, 909714, 929067, 95347...</td>\n",
       "    </tr>\n",
       "    <tr>\n",
       "      <th>4</th>\n",
       "      <td>8</td>\n",
       "      <td>[835098, 872137, 910439, 924610, 992977, 10412...</td>\n",
       "    </tr>\n",
       "  </tbody>\n",
       "</table>\n",
       "</div>"
      ],
      "text/plain": [
       "   user_id                                            item_id\n",
       "0        1  [821867, 834484, 856942, 865456, 889248, 90795...\n",
       "1        3  [835476, 851057, 872021, 878302, 879948, 90963...\n",
       "2        6  [920308, 926804, 946489, 1006718, 1017061, 107...\n",
       "3        7  [840386, 889774, 898068, 909714, 929067, 95347...\n",
       "4        8  [835098, 872137, 910439, 924610, 992977, 10412..."
      ]
     },
     "execution_count": 26,
     "metadata": {},
     "output_type": "execute_result"
    }
   ],
   "source": [
    "actual = data_test.groupby('user_id')['item_id'].unique().reset_index()\n",
    "actual.head()"
   ]
  },
  {
   "cell_type": "code",
   "execution_count": 27,
   "metadata": {},
   "outputs": [],
   "source": [
    "result.drop(columns='actual', axis=1, inplace=True)"
   ]
  },
  {
   "cell_type": "code",
   "execution_count": 28,
   "metadata": {},
   "outputs": [
    {
     "data": {
      "text/html": [
       "<div>\n",
       "<style scoped>\n",
       "    .dataframe tbody tr th:only-of-type {\n",
       "        vertical-align: middle;\n",
       "    }\n",
       "\n",
       "    .dataframe tbody tr th {\n",
       "        vertical-align: top;\n",
       "    }\n",
       "\n",
       "    .dataframe thead th {\n",
       "        text-align: right;\n",
       "    }\n",
       "</style>\n",
       "<table border=\"1\" class=\"dataframe\">\n",
       "  <thead>\n",
       "    <tr style=\"text-align: right;\">\n",
       "      <th></th>\n",
       "      <th>user_id</th>\n",
       "      <th>random_recommendation</th>\n",
       "      <th>popular_recommendation</th>\n",
       "      <th>itemitem</th>\n",
       "      <th>cosine</th>\n",
       "      <th>tfidf</th>\n",
       "      <th>own_purchases</th>\n",
       "      <th>actual</th>\n",
       "    </tr>\n",
       "  </thead>\n",
       "  <tbody>\n",
       "    <tr>\n",
       "      <th>0</th>\n",
       "      <td>1</td>\n",
       "      <td>[8157117, 870291, 1846901, 891748, 1038560]</td>\n",
       "      <td>[6534178, 6533889, 1029743, 6534166, 1082185]</td>\n",
       "      <td>[1082185, 981760, 1127831, 995242, 1098066]</td>\n",
       "      <td>[1082185, 981760, 1127831, 1098066, 961554]</td>\n",
       "      <td>[1082185, 981760, 1127831, 1098066, 961554]</td>\n",
       "      <td>[1082185, 1029743, 995785, 1004906, 1081177]</td>\n",
       "      <td>[821867, 834484, 856942, 865456, 889248, 90795...</td>\n",
       "    </tr>\n",
       "    <tr>\n",
       "      <th>1</th>\n",
       "      <td>3</td>\n",
       "      <td>[1000965, 10121560, 9878622, 13512901, 13039531]</td>\n",
       "      <td>[6534178, 6533889, 1029743, 6534166, 1082185]</td>\n",
       "      <td>[1082185, 981760, 1098066, 995242, 826249]</td>\n",
       "      <td>[1082185, 1098066, 981760, 826249, 883404]</td>\n",
       "      <td>[1082185, 981760, 1098066, 826249, 883404]</td>\n",
       "      <td>[1082185, 1098066, 6534178, 1127831, 1068719]</td>\n",
       "      <td>[835476, 851057, 872021, 878302, 879948, 90963...</td>\n",
       "    </tr>\n",
       "    <tr>\n",
       "      <th>2</th>\n",
       "      <td>6</td>\n",
       "      <td>[5129567, 6555376, 9487756, 6533880, 1117945]</td>\n",
       "      <td>[6534178, 6533889, 1029743, 6534166, 1082185]</td>\n",
       "      <td>[1082185, 981760, 1127831, 995242, 1098066]</td>\n",
       "      <td>[1082185, 981760, 1127831, 1098066, 961554]</td>\n",
       "      <td>[1082185, 981760, 1127831, 878996, 961554]</td>\n",
       "      <td>[1082185, 1029743, 6534178, 1127831, 995785]</td>\n",
       "      <td>[920308, 926804, 946489, 1006718, 1017061, 107...</td>\n",
       "    </tr>\n",
       "    <tr>\n",
       "      <th>3</th>\n",
       "      <td>7</td>\n",
       "      <td>[15740824, 9423981, 1052258, 13986798, 1003354]</td>\n",
       "      <td>[6534178, 6533889, 1029743, 6534166, 1082185]</td>\n",
       "      <td>[1082185, 981760, 1127831, 995242, 1098066]</td>\n",
       "      <td>[1082185, 981760, 1127831, 961554, 1098066]</td>\n",
       "      <td>[1082185, 981760, 1127831, 961554, 826249]</td>\n",
       "      <td>[1082185, 1029743, 1127831, 995785, 1044078]</td>\n",
       "      <td>[840386, 889774, 898068, 909714, 929067, 95347...</td>\n",
       "    </tr>\n",
       "    <tr>\n",
       "      <th>4</th>\n",
       "      <td>8</td>\n",
       "      <td>[1964658, 954745, 976261, 7025202, 1054432]</td>\n",
       "      <td>[6534178, 6533889, 1029743, 6534166, 1082185]</td>\n",
       "      <td>[1082185, 981760, 1127831, 1098066, 995242]</td>\n",
       "      <td>[1082185, 981760, 1098066, 826249, 1127831]</td>\n",
       "      <td>[1082185, 981760, 1098066, 826249, 1127831]</td>\n",
       "      <td>[1082185, 1029743, 1098066, 6534178, 1127831]</td>\n",
       "      <td>[835098, 872137, 910439, 924610, 992977, 10412...</td>\n",
       "    </tr>\n",
       "  </tbody>\n",
       "</table>\n",
       "</div>"
      ],
      "text/plain": [
       "   user_id                             random_recommendation  \\\n",
       "0        1       [8157117, 870291, 1846901, 891748, 1038560]   \n",
       "1        3  [1000965, 10121560, 9878622, 13512901, 13039531]   \n",
       "2        6     [5129567, 6555376, 9487756, 6533880, 1117945]   \n",
       "3        7   [15740824, 9423981, 1052258, 13986798, 1003354]   \n",
       "4        8       [1964658, 954745, 976261, 7025202, 1054432]   \n",
       "\n",
       "                          popular_recommendation  \\\n",
       "0  [6534178, 6533889, 1029743, 6534166, 1082185]   \n",
       "1  [6534178, 6533889, 1029743, 6534166, 1082185]   \n",
       "2  [6534178, 6533889, 1029743, 6534166, 1082185]   \n",
       "3  [6534178, 6533889, 1029743, 6534166, 1082185]   \n",
       "4  [6534178, 6533889, 1029743, 6534166, 1082185]   \n",
       "\n",
       "                                      itemitem  \\\n",
       "0  [1082185, 981760, 1127831, 995242, 1098066]   \n",
       "1   [1082185, 981760, 1098066, 995242, 826249]   \n",
       "2  [1082185, 981760, 1127831, 995242, 1098066]   \n",
       "3  [1082185, 981760, 1127831, 995242, 1098066]   \n",
       "4  [1082185, 981760, 1127831, 1098066, 995242]   \n",
       "\n",
       "                                        cosine  \\\n",
       "0  [1082185, 981760, 1127831, 1098066, 961554]   \n",
       "1   [1082185, 1098066, 981760, 826249, 883404]   \n",
       "2  [1082185, 981760, 1127831, 1098066, 961554]   \n",
       "3  [1082185, 981760, 1127831, 961554, 1098066]   \n",
       "4  [1082185, 981760, 1098066, 826249, 1127831]   \n",
       "\n",
       "                                         tfidf  \\\n",
       "0  [1082185, 981760, 1127831, 1098066, 961554]   \n",
       "1   [1082185, 981760, 1098066, 826249, 883404]   \n",
       "2   [1082185, 981760, 1127831, 878996, 961554]   \n",
       "3   [1082185, 981760, 1127831, 961554, 826249]   \n",
       "4  [1082185, 981760, 1098066, 826249, 1127831]   \n",
       "\n",
       "                                   own_purchases  \\\n",
       "0   [1082185, 1029743, 995785, 1004906, 1081177]   \n",
       "1  [1082185, 1098066, 6534178, 1127831, 1068719]   \n",
       "2   [1082185, 1029743, 6534178, 1127831, 995785]   \n",
       "3   [1082185, 1029743, 1127831, 995785, 1044078]   \n",
       "4  [1082185, 1029743, 1098066, 6534178, 1127831]   \n",
       "\n",
       "                                              actual  \n",
       "0  [821867, 834484, 856942, 865456, 889248, 90795...  \n",
       "1  [835476, 851057, 872021, 878302, 879948, 90963...  \n",
       "2  [920308, 926804, 946489, 1006718, 1017061, 107...  \n",
       "3  [840386, 889774, 898068, 909714, 929067, 95347...  \n",
       "4  [835098, 872137, 910439, 924610, 992977, 10412...  "
      ]
     },
     "execution_count": 28,
     "metadata": {},
     "output_type": "execute_result"
    }
   ],
   "source": [
    "result = result.merge(actual, how='left', on='user_id')\n",
    "result.rename(columns={'item_id': 'actual'}, inplace=True)\n",
    "result.head()"
   ]
  },
  {
   "cell_type": "code",
   "execution_count": 31,
   "metadata": {},
   "outputs": [],
   "source": [
    "def str_to_list(string):\n",
    "    if isinstance(string, list) or isinstance(string, int) or isinstance(string, np.ndarray):\n",
    "        return string\n",
    "    elif isinstance(string, str):\n",
    "        result = []\n",
    "        splitted_list = string[1:-1].split(',')\n",
    "        for value in splitted_list:\n",
    "            try:\n",
    "                result.append(int(value))\n",
    "            except ValueError:\n",
    "                print(f'Value {value} not added')\n",
    "        return result\n",
    "    else:\n",
    "        raise ValueError('Wrong value passed')"
   ]
  },
  {
   "cell_type": "code",
   "execution_count": 32,
   "metadata": {},
   "outputs": [],
   "source": [
    "for column in result.columns:\n",
    "    result[column] = result[column].map(str_to_list)"
   ]
  },
  {
   "cell_type": "code",
   "execution_count": 39,
   "metadata": {},
   "outputs": [],
   "source": [
    "def precision_at_k_(recommended_list, bought_list, k=5):\n",
    "    \n",
    "    bought_list = np.array(bought_list)\n",
    "    recommended_list = np.array(recommended_list)\n",
    "    \n",
    "    bought_list = bought_list  # Тут нет [:k] !!\n",
    "    recommended_list = recommended_list[:k]\n",
    "    \n",
    "    flags = np.isin(bought_list, recommended_list)\n",
    "    \n",
    "    precision = flags.sum() / (len(recommended_list) + 1)\n",
    "    \n",
    "    \n",
    "    return precision"
   ]
  },
  {
   "cell_type": "code",
   "execution_count": 40,
   "metadata": {},
   "outputs": [],
   "source": [
    "def precision_at_k_for_df(df, k=5):\n",
    "    columns = [x for x in df.columns if x not in ['actual', 'user_id']]\n",
    "    result = []\n",
    "    for column in columns:\n",
    "        column_precisions = []\n",
    "        for rec_list, bought_list in zip(df[column], df['actual']):\n",
    "            column_precisions.append(precision_at_k_(rec_list, bought_list))\n",
    "        result.append(np.mean(column_precisions))\n",
    "\n",
    "    result = dict(zip(columns, result))\n",
    "    return result"
   ]
  },
  {
   "cell_type": "code",
   "execution_count": 41,
   "metadata": {},
   "outputs": [
    {
     "data": {
      "text/plain": [
       "{'random_recommendation': 0.0004897159647404506,\n",
       " 'popular_recommendation': 0.1293666340189357,\n",
       " 'itemitem': 0.12610186092066603,\n",
       " 'cosine': 0.12952987267384916,\n",
       " 'tfidf': 0.13434541299379693,\n",
       " 'own_purchases': 0.16764609859614757}"
      ]
     },
     "execution_count": 41,
     "metadata": {},
     "output_type": "execute_result"
    }
   ],
   "source": [
    "precision_at_k_for_df(result)"
   ]
  },
  {
   "cell_type": "markdown",
   "metadata": {},
   "source": [
    "Задание 3*. Улучшение бейзлайнов и ItemItem<br>\n",
    "Попробуйте улучшить бейзлайны, считая их на топ-{2000, 5000, 10000} товаров. Постройте график зависимости precision@5 от топ-{2000, 5000, 10000}<br>\n",
    "Попробуйте улучшить разные варианты ItemItemRecommender, выбирая число соседей K. Постройте график зависимости precision@5 от K"
   ]
  },
  {
   "cell_type": "code",
   "execution_count": 42,
   "metadata": {},
   "outputs": [],
   "source": [
    "popularity = data_train.groupby('item_id')['quantity'].sum().reset_index()\n",
    "popularity.rename(columns={'quantity': 'n_sold'}, inplace=True)  # n_sold - число продаж\n",
    "\n",
    "top_5000 = popularity.sort_values('n_sold', ascending=False).head(5000).item_id.tolist()"
   ]
  },
  {
   "cell_type": "code",
   "execution_count": 43,
   "metadata": {},
   "outputs": [],
   "source": [
    "data_train2 = data_train.loc[data_train['item_id'].isin(top_5000), :]"
   ]
  },
  {
   "cell_type": "code",
   "execution_count": 44,
   "metadata": {},
   "outputs": [],
   "source": [
    "result = data_test.groupby('user_id')['item_id'].unique().reset_index()\n",
    "result.columns = ['user_id', 'actual']"
   ]
  },
  {
   "cell_type": "code",
   "execution_count": 45,
   "metadata": {},
   "outputs": [],
   "source": [
    "def random_recommendation(items, n=5):\n",
    "    \"\"\"Случайные рекоммендации\"\"\"\n",
    "\n",
    "    items = np.array(items)\n",
    "    recs = np.random.choice(items, size=n, replace=False)\n",
    "\n",
    "    return recs.tolist()"
   ]
  },
  {
   "cell_type": "code",
   "execution_count": 46,
   "metadata": {},
   "outputs": [],
   "source": [
    "def popularity_recommendation(data, n=5):\n",
    "    \"\"\"Топ-n популярных товаров\"\"\"\n",
    "\n",
    "    popular = data.groupby(by='item_id')['sales_value'].sum().reset_index()\n",
    "    popular.sort_values(by='sales_value', ascending=False, inplace=True)\n",
    "\n",
    "    recs = popular.head(n).item_id\n",
    "\n",
    "    return recs.tolist()"
   ]
  },
  {
   "cell_type": "code",
   "execution_count": 47,
   "metadata": {},
   "outputs": [
    {
     "name": "stdout",
     "output_type": "stream",
     "text": [
      "Wall time: 3.48 s\n"
     ]
    }
   ],
   "source": [
    "%%time\n",
    "items = data_train.item_id.unique()\n",
    "result['random_recommendation'] = result['user_id'].apply(lambda x: random_recommendation(items, n=5))"
   ]
  },
  {
   "cell_type": "code",
   "execution_count": 48,
   "metadata": {},
   "outputs": [
    {
     "name": "stdout",
     "output_type": "stream",
     "text": [
      "Wall time: 254 ms\n"
     ]
    }
   ],
   "source": [
    "%%time\n",
    "items = data_train2.item_id.unique()\n",
    "result['random_recommendation_2'] = result['user_id'].apply(lambda x: random_recommendation(items, n=5))"
   ]
  },
  {
   "cell_type": "code",
   "execution_count": 49,
   "metadata": {},
   "outputs": [
    {
     "name": "stdout",
     "output_type": "stream",
     "text": [
      "Wall time: 128 ms\n"
     ]
    }
   ],
   "source": [
    "%%time\n",
    "popular_recs = popularity_recommendation(data_train, n=5)\n",
    "result['popular_recommendation'] = result['user_id'].apply(lambda x: popular_recs)"
   ]
  },
  {
   "cell_type": "code",
   "execution_count": 50,
   "metadata": {},
   "outputs": [
    {
     "name": "stdout",
     "output_type": "stream",
     "text": [
      "Wall time: 52.3 ms\n"
     ]
    }
   ],
   "source": [
    "%%time\n",
    "popular_recs = popularity_recommendation(data_train2, n=5)\n",
    "result['popular_recommendation_2'] = result['user_id'].apply(lambda x: popular_recs)"
   ]
  },
  {
   "cell_type": "code",
   "execution_count": 51,
   "metadata": {},
   "outputs": [
    {
     "data": {
      "text/html": [
       "<div>\n",
       "<style scoped>\n",
       "    .dataframe tbody tr th:only-of-type {\n",
       "        vertical-align: middle;\n",
       "    }\n",
       "\n",
       "    .dataframe tbody tr th {\n",
       "        vertical-align: top;\n",
       "    }\n",
       "\n",
       "    .dataframe thead th {\n",
       "        text-align: right;\n",
       "    }\n",
       "</style>\n",
       "<table border=\"1\" class=\"dataframe\">\n",
       "  <thead>\n",
       "    <tr style=\"text-align: right;\">\n",
       "      <th></th>\n",
       "      <th>0</th>\n",
       "      <th>1</th>\n",
       "    </tr>\n",
       "  </thead>\n",
       "  <tbody>\n",
       "    <tr>\n",
       "      <th>user_id</th>\n",
       "      <td>1</td>\n",
       "      <td>3</td>\n",
       "    </tr>\n",
       "    <tr>\n",
       "      <th>actual</th>\n",
       "      <td>[821867, 834484, 856942, 865456, 889248, 90795...</td>\n",
       "      <td>[835476, 851057, 872021, 878302, 879948, 90963...</td>\n",
       "    </tr>\n",
       "    <tr>\n",
       "      <th>random_recommendation</th>\n",
       "      <td>[1081137, 6555244, 6534074, 972264, 12985628]</td>\n",
       "      <td>[5572741, 845838, 14106553, 1073710, 925350]</td>\n",
       "    </tr>\n",
       "    <tr>\n",
       "      <th>random_recommendation_2</th>\n",
       "      <td>[956813, 1134454, 1043128, 847049, 835098]</td>\n",
       "      <td>[1036936, 890455, 1100137, 913425, 9527161]</td>\n",
       "    </tr>\n",
       "    <tr>\n",
       "      <th>popular_recommendation</th>\n",
       "      <td>[6534178, 6533889, 1029743, 6534166, 1082185]</td>\n",
       "      <td>[6534178, 6533889, 1029743, 6534166, 1082185]</td>\n",
       "    </tr>\n",
       "    <tr>\n",
       "      <th>popular_recommendation_2</th>\n",
       "      <td>[6534178, 6533889, 1029743, 6534166, 1082185]</td>\n",
       "      <td>[6534178, 6533889, 1029743, 6534166, 1082185]</td>\n",
       "    </tr>\n",
       "  </tbody>\n",
       "</table>\n",
       "</div>"
      ],
      "text/plain": [
       "                                                                          0  \\\n",
       "user_id                                                                   1   \n",
       "actual                    [821867, 834484, 856942, 865456, 889248, 90795...   \n",
       "random_recommendation         [1081137, 6555244, 6534074, 972264, 12985628]   \n",
       "random_recommendation_2          [956813, 1134454, 1043128, 847049, 835098]   \n",
       "popular_recommendation        [6534178, 6533889, 1029743, 6534166, 1082185]   \n",
       "popular_recommendation_2      [6534178, 6533889, 1029743, 6534166, 1082185]   \n",
       "\n",
       "                                                                          1  \n",
       "user_id                                                                   3  \n",
       "actual                    [835476, 851057, 872021, 878302, 879948, 90963...  \n",
       "random_recommendation          [5572741, 845838, 14106553, 1073710, 925350]  \n",
       "random_recommendation_2         [1036936, 890455, 1100137, 913425, 9527161]  \n",
       "popular_recommendation        [6534178, 6533889, 1029743, 6534166, 1082185]  \n",
       "popular_recommendation_2      [6534178, 6533889, 1029743, 6534166, 1082185]  "
      ]
     },
     "execution_count": 51,
     "metadata": {},
     "output_type": "execute_result"
    }
   ],
   "source": [
    "result.head(2).T"
   ]
  },
  {
   "cell_type": "code",
   "execution_count": 52,
   "metadata": {},
   "outputs": [
    {
     "data": {
      "text/html": [
       "<div>\n",
       "<style scoped>\n",
       "    .dataframe tbody tr th:only-of-type {\n",
       "        vertical-align: middle;\n",
       "    }\n",
       "\n",
       "    .dataframe tbody tr th {\n",
       "        vertical-align: top;\n",
       "    }\n",
       "\n",
       "    .dataframe thead th {\n",
       "        text-align: right;\n",
       "    }\n",
       "</style>\n",
       "<table border=\"1\" class=\"dataframe\">\n",
       "  <thead>\n",
       "    <tr style=\"text-align: right;\">\n",
       "      <th></th>\n",
       "      <th>random_recommendation</th>\n",
       "      <th>random_recommendation_5000</th>\n",
       "      <th>popular_recommendation</th>\n",
       "      <th>popular_recommendation_5000</th>\n",
       "    </tr>\n",
       "  </thead>\n",
       "  <tbody>\n",
       "    <tr>\n",
       "      <th>precision_at_k</th>\n",
       "      <td>0.000082</td>\n",
       "      <td>0.005224</td>\n",
       "      <td>0.129367</td>\n",
       "      <td>0.129367</td>\n",
       "    </tr>\n",
       "  </tbody>\n",
       "</table>\n",
       "</div>"
      ],
      "text/plain": [
       "                random_recommendation  random_recommendation_5000  \\\n",
       "precision_at_k               0.000082                    0.005224   \n",
       "\n",
       "                popular_recommendation  popular_recommendation_5000  \n",
       "precision_at_k                0.129367                     0.129367  "
      ]
     },
     "execution_count": 52,
     "metadata": {},
     "output_type": "execute_result"
    }
   ],
   "source": [
    "pd.DataFrame([\n",
    "    result.apply(lambda row: precision_at_k_(row['random_recommendation'], row['actual']), axis=1).mean(),\n",
    "    result.apply(lambda row: precision_at_k_(row['random_recommendation_2'], row['actual']), axis=1).mean(),\n",
    "    result.apply(lambda row: precision_at_k_(row['popular_recommendation'], row['actual']), axis=1).mean(),\n",
    "    result.apply(lambda row: precision_at_k_(row['popular_recommendation_2'], row['actual']), axis=1).mean(),\n",
    "], \n",
    "    columns=['precision_at_k'], \n",
    "    index=['random_recommendation', 'random_recommendation_5000', 'popular_recommendation', 'popular_recommendation_5000']\n",
    ").T"
   ]
  },
  {
   "cell_type": "code",
   "execution_count": 53,
   "metadata": {},
   "outputs": [],
   "source": [
    "result = data_test.groupby('user_id')['item_id'].unique().reset_index()\n",
    "result.columns = ['user_id', 'actual']"
   ]
  },
  {
   "cell_type": "code",
   "execution_count": 54,
   "metadata": {},
   "outputs": [
    {
     "name": "stderr",
     "output_type": "stream",
     "text": [
      "C:\\Users\\EssenceD\\anaconda3\\lib\\site-packages\\pandas\\core\\indexing.py:1765: SettingWithCopyWarning: \n",
      "A value is trying to be set on a copy of a slice from a DataFrame.\n",
      "Try using .loc[row_indexer,col_indexer] = value instead\n",
      "\n",
      "See the caveats in the documentation: https://pandas.pydata.org/pandas-docs/stable/user_guide/indexing.html#returning-a-view-versus-a-copy\n",
      "  isetter(loc, value)\n"
     ]
    }
   ],
   "source": [
    "data_train.loc[~data_train['item_id'].isin(top_5000), 'item_id'] = 999999\n",
    "user_item_matrix = pd.pivot_table(data_train,\n",
    "                                  index='user_id',\n",
    "                                  columns='item_id',\n",
    "                                  values='quantity',\n",
    "                                  aggfunc='count',\n",
    "                                  fill_value=0)\n",
    "\n",
    "user_item_matrix[user_item_matrix > 0] = 1  # так как в итоге хотим предсказать\n",
    "user_item_matrix = user_item_matrix.astype(float)  # необходимый тип матрицы для implicit\n",
    "\n",
    "# переведем в формат saprse matrix\n",
    "sparse_user_item = csr_matrix(user_item_matrix).tocsr()\n",
    "# user_item_matrix.head(3)\n",
    "\n",
    "userids = user_item_matrix.index.values\n",
    "itemids = user_item_matrix.columns.values\n",
    "\n",
    "matrix_userids = np.arange(len(userids))\n",
    "matrix_itemids = np.arange(len(itemids))\n",
    "\n",
    "id_to_itemid = dict(zip(matrix_itemids, itemids))\n",
    "id_to_userid = dict(zip(matrix_userids, userids))\n",
    "\n",
    "itemid_to_id = dict(zip(itemids, matrix_itemids))\n",
    "userid_to_id = dict(zip(userids, matrix_userids))"
   ]
  },
  {
   "cell_type": "code",
   "execution_count": 55,
   "metadata": {},
   "outputs": [
    {
     "data": {
      "application/vnd.jupyter.widget-view+json": {
       "model_id": "21b97aff05fe4c24b7ddb489ead6687e",
       "version_major": 2,
       "version_minor": 0
      },
      "text/plain": [
       "HBox(children=(HTML(value=''), FloatProgress(value=0.0, max=5001.0), HTML(value='')))"
      ]
     },
     "metadata": {},
     "output_type": "display_data"
    },
    {
     "name": "stdout",
     "output_type": "stream",
     "text": [
      "\n"
     ]
    },
    {
     "data": {
      "application/vnd.jupyter.widget-view+json": {
       "model_id": "4bf4d0708fcf42d1b0419642f4f28500",
       "version_major": 2,
       "version_minor": 0
      },
      "text/plain": [
       "HBox(children=(HTML(value=''), FloatProgress(value=0.0, max=5001.0), HTML(value='')))"
      ]
     },
     "metadata": {},
     "output_type": "display_data"
    },
    {
     "name": "stdout",
     "output_type": "stream",
     "text": [
      "\n"
     ]
    },
    {
     "data": {
      "application/vnd.jupyter.widget-view+json": {
       "model_id": "08bf91b772da44c7aa962a96ad7f932a",
       "version_major": 2,
       "version_minor": 0
      },
      "text/plain": [
       "HBox(children=(HTML(value=''), FloatProgress(value=0.0, max=5001.0), HTML(value='')))"
      ]
     },
     "metadata": {},
     "output_type": "display_data"
    },
    {
     "name": "stdout",
     "output_type": "stream",
     "text": [
      "\n"
     ]
    },
    {
     "data": {
      "application/vnd.jupyter.widget-view+json": {
       "model_id": "de615474cc6744319629a943e3c6e6cd",
       "version_major": 2,
       "version_minor": 0
      },
      "text/plain": [
       "HBox(children=(HTML(value=''), FloatProgress(value=0.0, max=5001.0), HTML(value='')))"
      ]
     },
     "metadata": {},
     "output_type": "display_data"
    },
    {
     "name": "stdout",
     "output_type": "stream",
     "text": [
      "\n"
     ]
    },
    {
     "data": {
      "application/vnd.jupyter.widget-view+json": {
       "model_id": "2d5388986bda4f85945c0d22a305f46a",
       "version_major": 2,
       "version_minor": 0
      },
      "text/plain": [
       "HBox(children=(HTML(value=''), FloatProgress(value=0.0, max=5001.0), HTML(value='')))"
      ]
     },
     "metadata": {},
     "output_type": "display_data"
    },
    {
     "name": "stdout",
     "output_type": "stream",
     "text": [
      "\n"
     ]
    },
    {
     "data": {
      "application/vnd.jupyter.widget-view+json": {
       "model_id": "2df00dd7f3a94673ac1a407d32bdc0cc",
       "version_major": 2,
       "version_minor": 0
      },
      "text/plain": [
       "HBox(children=(HTML(value=''), FloatProgress(value=0.0, max=5001.0), HTML(value='')))"
      ]
     },
     "metadata": {},
     "output_type": "display_data"
    },
    {
     "name": "stdout",
     "output_type": "stream",
     "text": [
      "\n",
      "Wall time: 5.03 s\n"
     ]
    }
   ],
   "source": [
    "%%time\n",
    "\n",
    "for k in range(5, 11):\n",
    "    \n",
    "    model = ItemItemRecommender(K=k, num_threads=4)  # K - кол-во билжайших соседей\n",
    "    model.fit(csr_matrix(user_item_matrix).T.tocsr(), show_progress=True)\n",
    "    \n",
    "    recs = model.recommend(\n",
    "        userid=userid_to_id[2],  # userid - id от 0 до N\n",
    "        user_items=csr_matrix(user_item_matrix).tocsr(),  # на вход user-item matrix\n",
    "        N=5,  # кол-во рекомендаций \n",
    "        filter_already_liked_items=False,\n",
    "        filter_items=None,\n",
    "        recalculate_user=True)\n",
    "    \n",
    "    result[f'itemitem_K={k}'] = result['user_id'].\\\n",
    "        apply(lambda x: [id_to_itemid[rec[0]] for rec in \n",
    "                        model.recommend(userid=userid_to_id[x], \n",
    "                                        user_items=sparse_user_item,   # на вход user-item matrix\n",
    "                                        N=5, \n",
    "                                        filter_already_liked_items=False, \n",
    "                                        filter_items=None, \n",
    "                                        recalculate_user=True)])"
   ]
  },
  {
   "cell_type": "code",
   "execution_count": 57,
   "metadata": {},
   "outputs": [
    {
     "data": {
      "text/html": [
       "<div>\n",
       "<style scoped>\n",
       "    .dataframe tbody tr th:only-of-type {\n",
       "        vertical-align: middle;\n",
       "    }\n",
       "\n",
       "    .dataframe tbody tr th {\n",
       "        vertical-align: top;\n",
       "    }\n",
       "\n",
       "    .dataframe thead th {\n",
       "        text-align: right;\n",
       "    }\n",
       "</style>\n",
       "<table border=\"1\" class=\"dataframe\">\n",
       "  <thead>\n",
       "    <tr style=\"text-align: right;\">\n",
       "      <th></th>\n",
       "      <th>k=10</th>\n",
       "      <th>k=9</th>\n",
       "      <th>k=8</th>\n",
       "      <th>k=7</th>\n",
       "      <th>k=6</th>\n",
       "      <th>k=5</th>\n",
       "    </tr>\n",
       "  </thead>\n",
       "  <tbody>\n",
       "    <tr>\n",
       "      <th>precision_at_k</th>\n",
       "      <td>0.125775</td>\n",
       "      <td>0.123735</td>\n",
       "      <td>0.122674</td>\n",
       "      <td>0.120715</td>\n",
       "      <td>0.118348</td>\n",
       "      <td>0.114104</td>\n",
       "    </tr>\n",
       "  </tbody>\n",
       "</table>\n",
       "</div>"
      ],
      "text/plain": [
       "                    k=10       k=9       k=8       k=7       k=6       k=5\n",
       "precision_at_k  0.125775  0.123735  0.122674  0.120715  0.118348  0.114104"
      ]
     },
     "execution_count": 57,
     "metadata": {},
     "output_type": "execute_result"
    }
   ],
   "source": [
    "pd.DataFrame(\n",
    "    [\n",
    "        result.apply(lambda row: precision_at_k_(row['itemitem_K=5'], row['actual']), axis=1).mean(),\n",
    "        result.apply(lambda row: precision_at_k_(row['itemitem_K=6'], row['actual']), axis=1).mean(),\n",
    "        result.apply(lambda row: precision_at_k_(row['itemitem_K=7'], row['actual']), axis=1).mean(),\n",
    "        result.apply(lambda row: precision_at_k_(row['itemitem_K=8'], row['actual']), axis=1).mean(),\n",
    "        result.apply(lambda row: precision_at_k_(row['itemitem_K=9'], row['actual']), axis=1).mean(),\n",
    "        result.apply(lambda row: precision_at_k_(row['itemitem_K=10'], row['actual']), axis=1).mean(),\n",
    "    ], \n",
    "    columns = ['precision_at_k'], index=[f'k={i}' for i in range(5, 11)]\n",
    ").sort_values(by='precision_at_k', ascending=False).T"
   ]
  },
  {
   "cell_type": "code",
   "execution_count": null,
   "metadata": {},
   "outputs": [],
   "source": []
  }
 ],
 "metadata": {
  "kernelspec": {
   "display_name": "Python 3",
   "language": "python",
   "name": "python3"
  },
  "language_info": {
   "codemirror_mode": {
    "name": "ipython",
    "version": 3
   },
   "file_extension": ".py",
   "mimetype": "text/x-python",
   "name": "python",
   "nbconvert_exporter": "python",
   "pygments_lexer": "ipython3",
   "version": "3.8.5"
  }
 },
 "nbformat": 4,
 "nbformat_minor": 4
}
